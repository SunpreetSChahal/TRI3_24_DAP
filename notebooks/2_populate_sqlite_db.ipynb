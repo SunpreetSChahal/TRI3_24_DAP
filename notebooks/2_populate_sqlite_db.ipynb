{
 "cells": [
  {
   "cell_type": "code",
   "execution_count": 1,
   "metadata": {},
   "outputs": [],
   "source": [
    "import sqlite3\n",
    "import pandas as pd\n",
    "import glob\n",
    "\n",
    "from os import listdir\n",
    "from os.path import isfile, join"
   ]
  },
  {
   "cell_type": "code",
   "execution_count": 2,
   "metadata": {},
   "outputs": [],
   "source": [
    "# Pull all data files to onboard to dB\n",
    "data_folder_path = r'results/*' # all files in {results}"
   ]
  },
  {
   "cell_type": "code",
   "execution_count": 3,
   "metadata": {},
   "outputs": [],
   "source": [
    "# load in all files \n",
    "loaded_files = [pd.read_csv(filename) for filename in glob.glob(data_folder_path)]"
   ]
  },
  {
   "cell_type": "code",
   "execution_count": 4,
   "metadata": {},
   "outputs": [],
   "source": [
    "# load in all file names & clean the tail \".csv\" off each value\n",
    "loaded_files_names = [f for f in listdir(data_folder_path[:-1]) if isfile(join(data_folder_path[:-1], f))] \n",
    "loaded_files_names_rcsv = [str.rstrip(\".csv\") for str in loaded_files_names]\n",
    "\n",
    "assert len(loaded_files) == len(loaded_files_names) # check if num of files == num of file names"
   ]
  },
  {
   "cell_type": "code",
   "execution_count": 5,
   "metadata": {},
   "outputs": [],
   "source": [
    "# Connect to the database\n",
    "database_path = 'DAP_database.db'\n",
    "conn = sqlite3.connect(database_path)\n",
    "cursor = conn.cursor()"
   ]
  },
  {
   "cell_type": "code",
   "execution_count": 6,
   "metadata": {},
   "outputs": [],
   "source": [
    "# Write data files to database\n",
    "for file_name, file in zip(loaded_files_names_rcsv, loaded_files):\n",
    "\n",
    "    table_name = file_name\n",
    "    file.to_sql(table_name, \n",
    "                conn, \n",
    "                if_exists= 'replace') ## Maybe check content before replacing a file"
   ]
  },
  {
   "cell_type": "code",
   "execution_count": 7,
   "metadata": {},
   "outputs": [],
   "source": [
    "conn.close()"
   ]
  }
 ],
 "metadata": {
  "kernelspec": {
   "display_name": "base",
   "language": "python",
   "name": "python3"
  },
  "language_info": {
   "codemirror_mode": {
    "name": "ipython",
    "version": 3
   },
   "file_extension": ".py",
   "mimetype": "text/x-python",
   "name": "python",
   "nbconvert_exporter": "python",
   "pygments_lexer": "ipython3",
   "version": "3.11.9"
  }
 },
 "nbformat": 4,
 "nbformat_minor": 2
}
