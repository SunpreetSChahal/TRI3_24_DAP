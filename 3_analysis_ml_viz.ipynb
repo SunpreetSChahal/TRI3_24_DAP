{
 "cells": [
  {
   "cell_type": "code",
   "execution_count": 1,
   "metadata": {},
   "outputs": [],
   "source": [
    "import pandas as pd\n",
    "import sqlite3\n",
    "from pyspark.sql import SparkSession\n",
    "\n",
    "import os # setting variable paths\n",
    "\n",
    "# Anomaly detection\n",
    "from pyspark.ml.feature import VectorAssembler\n",
    "from pyspark.ml.clustering import KMeans\n",
    "\n",
    "# Viz\n",
    "import matplotlib.pyplot as plt\n",
    "import seaborn as sns"
   ]
  },
  {
   "cell_type": "code",
   "execution_count": 2,
   "metadata": {},
   "outputs": [],
   "source": [
    "os.environ['PYSPARK_PYTHON'] = r\"C:\\Users\\chaha\\MiniConda3\\python\"\n",
    "os.environ['PYSPARK_DRIVER_PYTHON'] = r\"C:\\Users\\chaha\\MiniConda3\\python\"\n",
    "os.environ['JAVA_HOME'] = r\"C:\\Program Files\\Java\\jdk-17\""
   ]
  },
  {
   "cell_type": "code",
   "execution_count": 3,
   "metadata": {},
   "outputs": [],
   "source": [
    "# Initialize Spark session\n",
    "jdbc_driver_jar = \"jars\\sqlite-jdbc-3.46.0.0.jar\" # provide path to be able to interact with SQLite db [[find out why Java is needed here]]\n",
    "\n",
    "spark = SparkSession.builder \\\n",
    "    .appName(\"DAP_app\") \\\n",
    "    .config(\"spark.driver.extraClassPath\", jdbc_driver_jar) \\\n",
    "    .getOrCreate()"
   ]
  },
  {
   "cell_type": "code",
   "execution_count": 4,
   "metadata": {},
   "outputs": [
    {
     "data": {
      "text/html": [
       "<div>\n",
       "<style scoped>\n",
       "    .dataframe tbody tr th:only-of-type {\n",
       "        vertical-align: middle;\n",
       "    }\n",
       "\n",
       "    .dataframe tbody tr th {\n",
       "        vertical-align: top;\n",
       "    }\n",
       "\n",
       "    .dataframe thead th {\n",
       "        text-align: right;\n",
       "    }\n",
       "</style>\n",
       "<table border=\"1\" class=\"dataframe\">\n",
       "  <thead>\n",
       "    <tr style=\"text-align: right;\">\n",
       "      <th></th>\n",
       "      <th>name</th>\n",
       "    </tr>\n",
       "  </thead>\n",
       "  <tbody>\n",
       "    <tr>\n",
       "      <th>0</th>\n",
       "      <td>customer_information</td>\n",
       "    </tr>\n",
       "    <tr>\n",
       "      <th>1</th>\n",
       "      <td>purchase_order</td>\n",
       "    </tr>\n",
       "  </tbody>\n",
       "</table>\n",
       "</div>"
      ],
      "text/plain": [
       "                   name\n",
       "0  customer_information\n",
       "1        purchase_order"
      ]
     },
     "execution_count": 4,
     "metadata": {},
     "output_type": "execute_result"
    }
   ],
   "source": [
    "# Connect to the database\n",
    "conn = sqlite3.connect('DAP_database.db')\n",
    "\n",
    "# List all tables in db\n",
    "tables_query = \"\"\"SELECT name \n",
    "                  FROM sqlite_master \n",
    "                  WHERE type='table';\"\"\"\n",
    "\n",
    "tables = pd.read_sql_query(tables_query, conn)\n",
    "\n",
    "tables"
   ]
  },
  {
   "cell_type": "markdown",
   "metadata": {},
   "source": [
    "### Invoke SQLite DB and Read Tables"
   ]
  },
  {
   "cell_type": "code",
   "execution_count": 5,
   "metadata": {},
   "outputs": [],
   "source": [
    "# JDBC [Java Database Connectivity] URL for SQLite\n",
    "jdbc_url = \"jdbc:sqlite:DAP_database.db\"\n",
    "\n",
    "# Invoke tables from SQLite db\n",
    "customer_info_spark_df = spark.read.format(\"jdbc\") \\\n",
    "    .option(\"url\", jdbc_url) \\\n",
    "    .option(\"dbtable\", \"customer_information\") \\\n",
    "    .load()\n",
    "\n",
    "purchase_orders_spark_df = spark.read.format(\"jdbc\") \\\n",
    "    .option(\"url\", jdbc_url) \\\n",
    "    .option(\"dbtable\", \"purchase_order\") \\\n",
    "    .load()"
   ]
  },
  {
   "cell_type": "code",
   "execution_count": 6,
   "metadata": {},
   "outputs": [
    {
     "name": "stdout",
     "output_type": "stream",
     "text": [
      "+-----+----------+--------------------+----------------+--------------------+--------------------+\n",
      "|index|Unnamed: 0|         customer_id|            name|               email|        phone_number|\n",
      "+-----+----------+--------------------+----------------+--------------------+--------------------+\n",
      "|    0|         0|69d07905-542b-4c8...|Dr. Shawn Sutton|ralvarado@example...|       (268)739-8688|\n",
      "|    1|         1|8acff1f2-b02a-4bf...|    Gavin Garcia|whitney07@example...|001-702-203-6708x482|\n",
      "|    2|         2|cbfa554e-ac86-430...|Kimberly Cabrera|abigail44@example...|     +1-368-641-3129|\n",
      "|    3|         3|fd1318a8-ea43-43b...|   Rachel Garcia|sherryhernandez@e...| +1-742-448-9325x648|\n",
      "|    4|         4|875d53d2-e3b0-431...|    Danielle Day|bailey67@example.com|001-900-207-8165x...|\n",
      "+-----+----------+--------------------+----------------+--------------------+--------------------+\n",
      "only showing top 5 rows\n",
      "\n",
      "+-----+----------+--------------------+--------------------+----------+--------+------+----------+\n",
      "|index|Unnamed: 0|            order_id|         customer_id|product_id|quantity|  cost|order_date|\n",
      "+-----+----------+--------------------+--------------------+----------+--------+------+----------+\n",
      "|    0|         0|621d6512-559f-452...|68a7ed5c-4db3-42b...|product_61|       7|318.68|2024-05-20|\n",
      "|    1|         1|1918354b-d91a-478...|f70880df-647c-41c...|product_65|       1|291.65|2024-02-18|\n",
      "|    2|         2|d8e778a1-7622-48e...|309c799e-2509-4f7...|product_89|       7| 26.46|2024-02-07|\n",
      "|    3|         3|17f5f211-a7be-4b0...|01eeea86-a7fb-48a...|product_80|      10| 185.4|2024-04-27|\n",
      "|    4|         4|03c114fa-bc67-4fb...|0626ea0c-4e31-442...|product_82|      10|116.05|2024-07-11|\n",
      "+-----+----------+--------------------+--------------------+----------+--------+------+----------+\n",
      "only showing top 5 rows\n",
      "\n"
     ]
    }
   ],
   "source": [
    "customer_info_spark_df.show(5)\n",
    "purchase_orders_spark_df.show(5)"
   ]
  },
  {
   "cell_type": "code",
   "execution_count": 7,
   "metadata": {},
   "outputs": [],
   "source": [
    "# Minor manipulation and processing \n",
    "purchase_orders_spark_df = purchase_orders_spark_df.dropna()"
   ]
  },
  {
   "cell_type": "code",
   "execution_count": 8,
   "metadata": {},
   "outputs": [
    {
     "name": "stdout",
     "output_type": "stream",
     "text": [
      "+--------------------+-------------+\n",
      "|         customer_id|sum(quantity)|\n",
      "+--------------------+-------------+\n",
      "|515adcfe-d3f7-4e3...|           27|\n",
      "|84593e79-62d8-4ad...|           46|\n",
      "|b64a6e4a-2778-463...|           55|\n",
      "|3fbf24c6-850f-405...|           52|\n",
      "|bdff809b-eb91-4f3...|           16|\n",
      "+--------------------+-------------+\n",
      "only showing top 5 rows\n",
      "\n"
     ]
    }
   ],
   "source": [
    "total_quantity_per_customer_spark = purchase_orders_spark_df.groupBy('customer_id').sum('quantity')\n",
    "total_quantity_per_customer_spark.show(5)"
   ]
  },
  {
   "cell_type": "markdown",
   "metadata": {},
   "source": [
    "### Anomaly Detection"
   ]
  },
  {
   "cell_type": "code",
   "execution_count": 9,
   "metadata": {},
   "outputs": [],
   "source": [
    "# Prepare data for clustering\n",
    "assembler = VectorAssembler(inputCols=['quantity', 'cost'], outputCol='features')\n",
    "purchase_orders_spark_df = assembler.transform(purchase_orders_spark_df)"
   ]
  },
  {
   "cell_type": "code",
   "execution_count": 10,
   "metadata": {},
   "outputs": [],
   "source": [
    "# Train KMeans model\n",
    "kmeans = KMeans(k=3, seed=1)\n",
    "model = kmeans.fit(purchase_orders_spark_df)"
   ]
  },
  {
   "cell_type": "code",
   "execution_count": 11,
   "metadata": {},
   "outputs": [],
   "source": [
    "# Predict anomalies\n",
    "predictions = model.transform(purchase_orders_spark_df)"
   ]
  },
  {
   "cell_type": "code",
   "execution_count": 12,
   "metadata": {},
   "outputs": [],
   "source": [
    "# Identify anomalies (cluster with the fewest points)\n",
    "cluster_counts = predictions.groupBy('prediction').count().orderBy('count')\n",
    "anomaly_cluster = cluster_counts.first()['prediction']\n",
    "anomalies = predictions.filter(predictions['prediction'] == anomaly_cluster)"
   ]
  },
  {
   "cell_type": "code",
   "execution_count": 13,
   "metadata": {},
   "outputs": [
    {
     "name": "stdout",
     "output_type": "stream",
     "text": [
      "+-----+----------+--------------------+--------------------+----------+--------+------+----------+------------+----------+\n",
      "|index|Unnamed: 0|            order_id|         customer_id|product_id|quantity|  cost|order_date|    features|prediction|\n",
      "+-----+----------+--------------------+--------------------+----------+--------+------+----------+------------+----------+\n",
      "|   10|        10|fa77011f-26d0-46f...|9681e1c1-caf0-4ce...|product_83|       1|486.57|2024-05-25|[1.0,486.57]|         1|\n",
      "+-----+----------+--------------------+--------------------+----------+--------+------+----------+------------+----------+\n",
      "only showing top 1 row\n",
      "\n"
     ]
    }
   ],
   "source": [
    "anomalies.show(1)"
   ]
  },
  {
   "cell_type": "markdown",
   "metadata": {},
   "source": [
    "### Visualisation"
   ]
  },
  {
   "cell_type": "code",
   "execution_count": 14,
   "metadata": {},
   "outputs": [],
   "source": [
    "# Convert anomalies to Pandas for viz\n",
    "anomalies_pd = anomalies.toPandas()\n",
    "purchase_order_pd = purchase_orders_spark_df.toPandas()"
   ]
  },
  {
   "cell_type": "code",
   "execution_count": 15,
   "metadata": {},
   "outputs": [],
   "source": [
    "cust_id = '00496016-5229-4e2a-886e-5f7fa11761f9'\n",
    "\n",
    "custid_anomalies = anomalies_pd[anomalies_pd['customer_id'] == cust_id].sort_values(by= 'order_date') \n",
    "custid_purchases = purchase_order_pd[purchase_order_pd['customer_id'] == cust_id].sort_values(by= 'order_date') "
   ]
  },
  {
   "cell_type": "code",
   "execution_count": 16,
   "metadata": {},
   "outputs": [
    {
     "name": "stderr",
     "output_type": "stream",
     "text": [
      "No artists with labels found to put in legend.  Note that artists whose label start with an underscore are ignored when legend() is called with no argument.\n"
     ]
    },
    {
     "data": {
      "image/png": "[encoded data removed]",
      "text/plain": [
       "<Figure size 1500x1000 with 1 Axes>"
      ]
     },
     "metadata": {},
     "output_type": "display_data"
    }
   ],
   "source": [
    "# Plotting the results\n",
    "plt.figure(figsize=(15, 10))\n",
    "\n",
    "# Purchases over time\n",
    "sns.lineplot(data= custid_purchases, \n",
    "                x= 'order_date', \n",
    "                y= 'quantity',\n",
    "            )\n",
    "\n",
    "# Anomalous purchases over time\n",
    "sns.scatterplot(data= custid_anomalies, \n",
    "                x= 'order_date', \n",
    "                y= 'quantity',\n",
    "                markers= 'X')\n",
    "\n",
    "plt.title(f'Customer Purchases - Anomalous Activity - ID: {cust_id}')\n",
    "plt.legend()\n",
    "plt.show()"
   ]
  },
  {
   "cell_type": "code",
   "execution_count": null,
   "metadata": {},
   "outputs": [],
   "source": []
  }
 ],
 "metadata": {
  "kernelspec": {
   "display_name": "base",
   "language": "python",
   "name": "python3"
  },
  "language_info": {
   "codemirror_mode": {
    "name": "ipython",
    "version": 3
   },
   "file_extension": ".py",
   "mimetype": "text/x-python",
   "name": "python",
   "nbconvert_exporter": "python",
   "pygments_lexer": "ipython3",
   "version": "3.11.9"
  }
 },
 "nbformat": 4,
 "nbformat_minor": 2
}
